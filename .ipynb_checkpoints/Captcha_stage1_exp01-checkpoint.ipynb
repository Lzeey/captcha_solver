{
 "cells": [
  {
   "cell_type": "code",
   "execution_count": 12,
   "metadata": {
    "collapsed": false
   },
   "outputs": [],
   "source": [
    "%matplotlib inline\n",
    "import matplotlib.pyplot as plt\n",
    "\n",
    "import keras\n",
    "from keras.datasets import cifar10\n",
    "from keras.preprocessing.image import ImageDataGenerator\n",
    "from keras.models import Sequential, Model\n",
    "from keras.layers import Dense, Dropout, Activation, Flatten, Input, Concatenate\n",
    "from keras.layers import Conv2D, MaxPooling2D, AveragePooling2D, GlobalAveragePooling2D\n",
    "from keras.layers.normalization import BatchNormalization\n",
    "from keras.callbacks import LearningRateScheduler, ReduceLROnPlateau, ModelCheckpoint\n",
    "import tensorflow as tf\n",
    "\n",
    "from sklearn.model_selection import train_test_split\n",
    "import os\n",
    "import pickle\n",
    "import random\n",
    "import numpy as np\n",
    "import itertools"
   ]
  },
  {
   "cell_type": "markdown",
   "metadata": {},
   "source": [
    "# Captcha solver\n",
    "## Stage 1: character counter\n",
    "\n",
    "For this experiment, we will build the captcha solver in 2 separate stages. The first is to build a classifier than will determine the number of characters (before activating a stage 2 classification of the characters)\n"
   ]
  },
  {
   "cell_type": "code",
   "execution_count": 13,
   "metadata": {
    "collapsed": true
   },
   "outputs": [],
   "source": [
    "DATA_DIR = 'data'\n",
    "MODEL_NAME = 'char_counter_exp01.h5'\n",
    "num_classes = 5\n",
    "\n",
    "width = 150\n",
    "height = 60 #Uniform squashing of images"
   ]
  },
  {
   "cell_type": "markdown",
   "metadata": {
    "collapsed": false
   },
   "source": [
    "#Convert to numpy for speed\n",
    "import progressbar\n",
    "\n",
    "def extractor(gen, name, folder):\n",
    "    gen.reset()\n",
    "    samples = gen.samples\n",
    "    batch_size = gen.batch_size\n",
    "    bar = progressbar.ProgressBar()\n",
    "    #X = []\n",
    "    \n",
    "    for step in bar(range(samples//batch_size + 1)):\n",
    "        X_batch, y_batch = gen.next()\n",
    "        \n",
    "        np.save(os.path.join(folder, '%s_X_%d.npy'%(name,step)), \n",
    "                X_batch)\n",
    "        #X.append(X_batch)\n",
    "        #y.append(y_batch)\n",
    "        #if step == 0:\n",
    "        #    X = X_batch\n",
    "            #y = y_batch\n",
    "        #else:\n",
    "        #    X = np.concatenate((X, X_batch), axis=0)\n",
    "            #y = np.concatenate((y, y_batch), axis=0)\n",
    "        #X = np.concatenate(X, axis=0)\n",
    "    #y = gen.classes\n",
    "    y = y.classes\n",
    "    np.save(os.path.join(folder, '%s_y.npy'%(name)), y)\n",
    "\n",
    "datagen = ImageDataGenerator()\n",
    "traingen = datagen.flow_from_directory('data',\n",
    "                                      target_size=(height, width),\n",
    "                                      batch_size=6000,\n",
    "                                      shuffle=False)\n",
    "valgen = datagen.flow_from_directory('data_val',\n",
    "                                      target_size=(height, width),\n",
    "                                      batch_size=6000,\n",
    "                                      shuffle=False)\n",
    "extractor(traingen, 'train', 'data_npy')\n",
    "#X_train.save('X_train.npy', X_train)\n",
    "#y_train.save('y_train.npy', y_train)\n",
    "\n",
    "extractor(valgen, 'val', 'data_npy')\n",
    "#X_val.save('X_val.npy', X_val)\n",
    "#y_val.save('y_val.npy', y_val)\n",
    "\n",
    "\n",
    "\n"
   ]
  },
  {
   "cell_type": "code",
   "execution_count": 14,
   "metadata": {
    "collapsed": true
   },
   "outputs": [],
   "source": [
    "train_datagen = ImageDataGenerator(rescale=1/255,\n",
    "                               shear_range=0.05,\n",
    "                               channel_shift_range=0.2,\n",
    "                               width_shift_range=0.05,\n",
    "                               height_shift_range=0.05,\n",
    "                               fill_mode='reflect'\n",
    "                              )\n",
    "\n",
    "val_datagen = ImageDataGenerator(rescale=1/255)\n",
    "\n"
   ]
  },
  {
   "cell_type": "code",
   "execution_count": 15,
   "metadata": {
    "collapsed": false
   },
   "outputs": [
    {
     "name": "stdout",
     "output_type": "stream",
     "text": [
      "Found 225120 images belonging to 5 classes.\n",
      "Found 22313 images belonging to 5 classes.\n"
     ]
    }
   ],
   "source": [
    "train_generator = train_datagen.flow_from_directory('data',\n",
    "                                                   target_size=(height, width),\n",
    "                                                    batch_size=32,\n",
    "                                                   shuffle=True)\n",
    "val_generator = val_datagen.flow_from_directory('data_val',\n",
    "                                                  batch_size=32,\n",
    "                                                target_size=(height, width),\n",
    "                                                 shuffle=False)"
   ]
  },
  {
   "cell_type": "code",
   "execution_count": 16,
   "metadata": {
    "collapsed": false
   },
   "outputs": [
    {
     "data": {
      "text/plain": [
       "<matplotlib.image.AxesImage at 0x7f77f65d3668>"
      ]
     },
     "execution_count": 16,
     "metadata": {},
     "output_type": "execute_result"
    },
    {
     "data": {
      "image/png": "[encoded data removed]",
      "text/plain": [
       "<matplotlib.figure.Figure at 0x7f77f7f6e198>"
      ]
     },
     "metadata": {},
     "output_type": "display_data"
    }
   ],
   "source": [
    "#Test some images\n",
    "a, b = train_generator.next()\n",
    "plt.imshow(a[0])\n"
   ]
  },
  {
   "cell_type": "code",
   "execution_count": 17,
   "metadata": {
    "collapsed": true
   },
   "outputs": [],
   "source": [
    "def mixed_block(x, num_filt, block_num):\n",
    "    branch1x1 = Conv2D(num_filt, (1,1), activation='elu', padding='same', name='block%d_1x1_c1'%block_num)(x)\n",
    "    branch1x1 = BatchNormalization(name='block%d_1x1_bn1'%block_num)(branch1x1)\n",
    "    \n",
    "    branch3x3 = Conv2D(int(num_filt*0.75), (1,1), activation='elu', padding='same', name='block%d_3x3_c1'%block_num)(x)\n",
    "    branch3x3 = BatchNormalization( name='block%d_3x3_bn1'%block_num)(branch3x3)\n",
    "    branch3x3 = Conv2D(num_filt, (3,3), activation='elu', padding='same', name='block%d_3x3_c2'%block_num)(branch3x3)\n",
    "    branch3x3 = BatchNormalization( name='block%d_3x3_bn2'%block_num)(branch3x3)\n",
    "    \n",
    "    branch5x5 = Conv2D(int(num_filt*0.75), (1,1), activation='elu', padding='same', name='block%d_5x5_c1'%block_num)(x)\n",
    "    branch5x5 = BatchNormalization(name='block%d_5x5_bn1'%block_num)(branch5x5)\n",
    "    branch5x5 = Conv2D(num_filt, (3,3), activation='elu', padding='same', name='block%d_5x5_c2'%block_num)(branch5x5)\n",
    "    branch5x5 = Conv2D(num_filt, (3,3), activation='elu', padding='same', name='block%d_5x5_c3'%block_num)(branch5x5)\n",
    "    branch5x5 = BatchNormalization(name='block%d_5x5_bn2'%block_num)(branch5x5)    \n",
    "    \n",
    "    #branch5x5 = Conv2D(num_filt, (5,5), activation='elu', padding='same', name='block%d_5x5_c2'%block_num)(branch5x5)\n",
    "    #branch5x5 = BatchNormalization(name='block%d_5x5_bn2'%block_num)(branch5x5)\n",
    "    \n",
    "    branch_pool = AveragePooling2D((3,3), strides=(1,1), padding='same', name='block%d_pool_pool1'%block_num)(x)\n",
    "    branch_pool = Conv2D(int(num_filt//2), (1,1), activation='elu', name='block%d_pool_c1'%block_num)(branch_pool)\n",
    "    \n",
    "    out = Concatenate(name='mixed_%d'%block_num, axis=3)([branch1x1, branch3x3, branch5x5, branch_pool])\n",
    "    return out"
   ]
  },
  {
   "cell_type": "code",
   "execution_count": 19,
   "metadata": {
    "collapsed": false
   },
   "outputs": [
    {
     "name": "stdout",
     "output_type": "stream",
     "text": [
      "____________________________________________________________________________________________________\n",
      "Layer (type)                     Output Shape          Param #     Connected to                     \n",
      "====================================================================================================\n",
      "input_2 (InputLayer)             (None, 60, 150, 3)    0                                            \n",
      "____________________________________________________________________________________________________\n",
      "conv1_c1 (Conv2D)                (None, 58, 148, 32)   896         input_2[0][0]                    \n",
      "____________________________________________________________________________________________________\n",
      "conv1_bn1 (BatchNormalization)   (None, 58, 148, 32)   128         conv1_c1[0][0]                   \n",
      "____________________________________________________________________________________________________\n",
      "conv1_c2 (Conv2D)                (None, 58, 148, 64)   18496       conv1_bn1[0][0]                  \n",
      "____________________________________________________________________________________________________\n",
      "conv1_bn2 (BatchNormalization)   (None, 58, 148, 64)   256         conv1_c2[0][0]                   \n",
      "____________________________________________________________________________________________________\n",
      "conv1_pool1 (MaxPooling2D)       (None, 28, 73, 64)    0           conv1_bn2[0][0]                  \n",
      "____________________________________________________________________________________________________\n",
      "conv2_c1 (Conv2D)                (None, 26, 71, 128)   73856       conv1_pool1[0][0]                \n",
      "____________________________________________________________________________________________________\n",
      "conv2_bn1 (BatchNormalization)   (None, 26, 71, 128)   512         conv2_c1[0][0]                   \n",
      "____________________________________________________________________________________________________\n",
      "conv2_c2 (Conv2D)                (None, 24, 69, 192)   221376      conv2_bn1[0][0]                  \n",
      "____________________________________________________________________________________________________\n",
      "conv2_bn2 (BatchNormalization)   (None, 24, 69, 192)   768         conv2_c2[0][0]                   \n",
      "____________________________________________________________________________________________________\n",
      "conv2_pool1 (MaxPooling2D)       (None, 11, 34, 192)   0           conv2_bn2[0][0]                  \n",
      "____________________________________________________________________________________________________\n",
      "dropout_3 (Dropout)              (None, 11, 34, 192)   0           conv2_pool1[0][0]                \n",
      "____________________________________________________________________________________________________\n",
      "block0_5x5_c1 (Conv2D)           (None, 11, 34, 48)    9264        dropout_3[0][0]                  \n",
      "____________________________________________________________________________________________________\n",
      "block0_3x3_c1 (Conv2D)           (None, 11, 34, 48)    9264        dropout_3[0][0]                  \n",
      "____________________________________________________________________________________________________\n",
      "block0_5x5_bn1 (BatchNormalizati (None, 11, 34, 48)    192         block0_5x5_c1[0][0]              \n",
      "____________________________________________________________________________________________________\n",
      "block0_3x3_bn1 (BatchNormalizati (None, 11, 34, 48)    192         block0_3x3_c1[0][0]              \n",
      "____________________________________________________________________________________________________\n",
      "block0_5x5_c2 (Conv2D)           (None, 11, 34, 64)    27712       block0_5x5_bn1[0][0]             \n",
      "____________________________________________________________________________________________________\n",
      "block0_1x1_c1 (Conv2D)           (None, 11, 34, 64)    12352       dropout_3[0][0]                  \n",
      "____________________________________________________________________________________________________\n",
      "block0_3x3_c2 (Conv2D)           (None, 11, 34, 64)    27712       block0_3x3_bn1[0][0]             \n",
      "____________________________________________________________________________________________________\n",
      "block0_5x5_c3 (Conv2D)           (None, 11, 34, 64)    36928       block0_5x5_c2[0][0]              \n",
      "____________________________________________________________________________________________________\n",
      "block0_pool_pool1 (AveragePoolin (None, 11, 34, 192)   0           dropout_3[0][0]                  \n",
      "____________________________________________________________________________________________________\n",
      "block0_1x1_bn1 (BatchNormalizati (None, 11, 34, 64)    256         block0_1x1_c1[0][0]              \n",
      "____________________________________________________________________________________________________\n",
      "block0_3x3_bn2 (BatchNormalizati (None, 11, 34, 64)    256         block0_3x3_c2[0][0]              \n",
      "____________________________________________________________________________________________________\n",
      "block0_5x5_bn2 (BatchNormalizati (None, 11, 34, 64)    256         block0_5x5_c3[0][0]              \n",
      "____________________________________________________________________________________________________\n",
      "block0_pool_c1 (Conv2D)          (None, 11, 34, 32)    6176        block0_pool_pool1[0][0]          \n",
      "____________________________________________________________________________________________________\n",
      "mixed_0 (Concatenate)            (None, 11, 34, 224)   0           block0_1x1_bn1[0][0]             \n",
      "                                                                   block0_3x3_bn2[0][0]             \n",
      "                                                                   block0_5x5_bn2[0][0]             \n",
      "                                                                   block0_pool_c1[0][0]             \n",
      "____________________________________________________________________________________________________\n",
      "dropout_4 (Dropout)              (None, 11, 34, 224)   0           mixed_0[0][0]                    \n",
      "____________________________________________________________________________________________________\n",
      "block1_5x5_c1 (Conv2D)           (None, 11, 34, 96)    21600       dropout_4[0][0]                  \n",
      "____________________________________________________________________________________________________\n",
      "block1_3x3_c1 (Conv2D)           (None, 11, 34, 96)    21600       dropout_4[0][0]                  \n",
      "____________________________________________________________________________________________________\n",
      "block1_5x5_bn1 (BatchNormalizati (None, 11, 34, 96)    384         block1_5x5_c1[0][0]              \n",
      "____________________________________________________________________________________________________\n",
      "block1_3x3_bn1 (BatchNormalizati (None, 11, 34, 96)    384         block1_3x3_c1[0][0]              \n",
      "____________________________________________________________________________________________________\n",
      "block1_5x5_c2 (Conv2D)           (None, 11, 34, 128)   110720      block1_5x5_bn1[0][0]             \n",
      "____________________________________________________________________________________________________\n",
      "block1_1x1_c1 (Conv2D)           (None, 11, 34, 128)   28800       dropout_4[0][0]                  \n",
      "____________________________________________________________________________________________________\n",
      "block1_3x3_c2 (Conv2D)           (None, 11, 34, 128)   110720      block1_3x3_bn1[0][0]             \n",
      "____________________________________________________________________________________________________\n",
      "block1_5x5_c3 (Conv2D)           (None, 11, 34, 128)   147584      block1_5x5_c2[0][0]              \n",
      "____________________________________________________________________________________________________\n",
      "block1_pool_pool1 (AveragePoolin (None, 11, 34, 224)   0           dropout_4[0][0]                  \n",
      "____________________________________________________________________________________________________\n",
      "block1_1x1_bn1 (BatchNormalizati (None, 11, 34, 128)   512         block1_1x1_c1[0][0]              \n",
      "____________________________________________________________________________________________________\n",
      "block1_3x3_bn2 (BatchNormalizati (None, 11, 34, 128)   512         block1_3x3_c2[0][0]              \n",
      "____________________________________________________________________________________________________\n",
      "block1_5x5_bn2 (BatchNormalizati (None, 11, 34, 128)   512         block1_5x5_c3[0][0]              \n",
      "____________________________________________________________________________________________________\n",
      "block1_pool_c1 (Conv2D)          (None, 11, 34, 64)    14400       block1_pool_pool1[0][0]          \n",
      "____________________________________________________________________________________________________\n",
      "mixed_1 (Concatenate)            (None, 11, 34, 448)   0           block1_1x1_bn1[0][0]             \n",
      "                                                                   block1_3x3_bn2[0][0]             \n",
      "                                                                   block1_5x5_bn2[0][0]             \n",
      "                                                                   block1_pool_c1[0][0]             \n",
      "____________________________________________________________________________________________________\n",
      "dropout_5 (Dropout)              (None, 11, 34, 448)   0           mixed_1[0][0]                    \n",
      "____________________________________________________________________________________________________\n",
      "global_average_pooling2d_2 (Glob (None, 448)           0           dropout_5[0][0]                  \n",
      "____________________________________________________________________________________________________\n",
      "dense_2 (Dense)                  (None, 128)           57472       global_average_pooling2d_2[0][0] \n",
      "____________________________________________________________________________________________________\n",
      "dropout_6 (Dropout)              (None, 128)           0           dense_2[0][0]                    \n",
      "____________________________________________________________________________________________________\n",
      "batch_normalization_2 (BatchNorm (None, 128)           512         dropout_6[0][0]                  \n",
      "____________________________________________________________________________________________________\n",
      "logits_layer (Dense)             (None, 5)             645         batch_normalization_2[0][0]      \n",
      "____________________________________________________________________________________________________\n",
      "Sofftmax_layer (Activation)      (None, 5)             0           logits_layer[0][0]               \n",
      "====================================================================================================\n",
      "Total params: 963,205\n",
      "Trainable params: 960,389\n",
      "Non-trainable params: 2,816\n",
      "____________________________________________________________________________________________________\n"
     ]
    }
   ],
   "source": [
    "inps = Input(shape=(height, width, 3))\n",
    "x = Conv2D(32, (3,3), activation='elu', name='conv1_c1')(inps)\n",
    "x = BatchNormalization(name='conv1_bn1')(x)\n",
    "x = Conv2D(64, (3,3), activation='elu', padding='same', name='conv1_c2')(x)\n",
    "x = BatchNormalization(name='conv1_bn2')(x)\n",
    "x = MaxPooling2D(pool_size=(3,3), strides=(2,2), name='conv1_pool1')(x)\n",
    "\n",
    "x = Conv2D(128, (3,3), activation='elu', name='conv2_c1')(x)\n",
    "x = BatchNormalization(name='conv2_bn1')(x)\n",
    "x = Conv2D(192, (3,3), activation='elu', name='conv2_c2')(x)\n",
    "x = BatchNormalization(name='conv2_bn2')(x)\n",
    "x = MaxPooling2D(pool_size=(3,3), strides=(2,2), name='conv2_pool1')(x)\n",
    "x = Dropout(0.1)(x)\n",
    "\n",
    "#Insert 2 inception layers\n",
    "x = mixed_block(x, 64, 0)\n",
    "x = Dropout(0.3)(x)\n",
    "x = mixed_block(x, 128, 1)\n",
    "x = Dropout(0.4)(x)\n",
    "\n",
    "x = GlobalAveragePooling2D()(x)\n",
    "x = Dense(128, activation='elu')(x)\n",
    "x = BatchNormalization()(x)\n",
    "x = Dropout(0.5)(x)\n",
    "\n",
    "logits_layer = Dense(num_classes, name= 'logits_layer')(x)\n",
    "output = Activation('softmax',name = 'Sofftmax_layer')(logits_layer)\n",
    "\n",
    "model = Model(inps, output)\n",
    "model.summary()\n",
    "\n",
    "# initiate RMSprop optimizer\n",
    "opt = keras.optimizers.adam(decay=1e-6)\n",
    "\n",
    "# Let's train the model using RMSprop\n",
    "model.compile(loss='categorical_crossentropy',\n",
    "              optimizer=opt,\n",
    "              metrics=['accuracy'])"
   ]
  },
  {
   "cell_type": "code",
   "execution_count": null,
   "metadata": {
    "collapsed": false
   },
   "outputs": [],
   "source": [
    "train_generator.batch_size"
   ]
  },
  {
   "cell_type": "code",
   "execution_count": null,
   "metadata": {
    "collapsed": false
   },
   "outputs": [],
   "source": [
    "reduce_lr = ReduceLROnPlateau(monitor='val_acc', factor=0.8,\n",
    "              patience=5, min_lr=0.00001)\n",
    "model_chkpt = ModelCheckpoint(filepath=MODEL_NAME, monitor='val_acc', verbose=1, save_best_only=True)\n",
    "\n",
    "epochs = 100\n",
    "\n",
    "hist = model.fit_generator(train_generator,\n",
    "                    steps_per_epoch=train_generator.samples // train_generator.batch_size,\n",
    "                    epochs=epochs,\n",
    "                    validation_data=val_generator,\n",
    "                    validation_steps=val_generator.samples // val_generator.batch_size,\n",
    "                    workers=4,\n",
    "                    callbacks=[reduce_lr, model_chkpt]) # , model_chkpt Weird serialization error"
   ]
  }
 ],
 "metadata": {
  "anaconda-cloud": {},
  "kernelspec": {
   "display_name": "Python [conda env:python35]",
   "language": "python",
   "name": "conda-env-python35-py"
  },
  "language_info": {
   "codemirror_mode": {
    "name": "ipython",
    "version": 3
   },
   "file_extension": ".py",
   "mimetype": "text/x-python",
   "name": "python",
   "nbconvert_exporter": "python",
   "pygments_lexer": "ipython3",
   "version": "3.5.3"
  }
 },
 "nbformat": 4,
 "nbformat_minor": 2
}
